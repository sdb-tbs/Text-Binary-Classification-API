{
 "cells": [
  {
   "cell_type": "code",
   "execution_count": 8,
   "id": "56e42e24",
   "metadata": {},
   "outputs": [],
   "source": [
    "import requests\n",
    "import json\n",
    "\n",
    "url = \"http://localhost/classify/\"\n"
   ]
  },
  {
   "cell_type": "code",
   "execution_count": 14,
   "id": "a8d25bab",
   "metadata": {},
   "outputs": [
    {
     "name": "stdout",
     "output_type": "stream",
     "text": [
      "200\n",
      "{\"today the weather is good\":\"POSITIVE\"}\n"
     ]
    }
   ],
   "source": [
    "payload = json.dumps({\n",
    "  \"string_list\": [\n",
    "    \"today the weather is good\"\n",
    "  ]\n",
    "})\n",
    "headers = {\n",
    "  'Content-Type': 'application/json'\n",
    "}\n",
    "\n",
    "response = requests.request(\"POST\", url, headers=headers, data=payload)\n",
    "print(response.status_code)\n",
    "\n",
    "print(response.text)"
   ]
  },
  {
   "cell_type": "code",
   "execution_count": 19,
   "id": "0288c4b3",
   "metadata": {},
   "outputs": [
    {
     "name": "stdout",
     "output_type": "stream",
     "text": [
      "400\n",
      "[\"Please pass only strings in your list\"]\n"
     ]
    }
   ],
   "source": [
    "payload = json.dumps({\n",
    "  \"string_list\": [3, 6, 8, 'this is a nice pen'\n",
    "    \n",
    "  ]\n",
    "})\n",
    "headers = {\n",
    "  'Content-Type': 'application/json'\n",
    "}\n",
    "\n",
    "response = requests.request(\"POST\", url, headers=headers, data=payload)\n",
    "print(response.status_code)\n",
    "\n",
    "print(response.text)"
   ]
  },
  {
   "cell_type": "code",
   "execution_count": 20,
   "id": "aaa591ea",
   "metadata": {},
   "outputs": [
    {
     "name": "stdout",
     "output_type": "stream",
     "text": [
      "406\n",
      "{\"detail\":\"You should pass a list of strings!\"}\n"
     ]
    }
   ],
   "source": [
    "payload = json.dumps({\n",
    "  \"string_list\": [\n",
    "    \n",
    "  ]\n",
    "})\n",
    "headers = {\n",
    "  'Content-Type': 'application/json'\n",
    "}\n",
    "\n",
    "response = requests.request(\"POST\", url, headers=headers, data=payload)\n",
    "print(response.status_code)\n",
    "\n",
    "print(response.text)"
   ]
  },
  {
   "cell_type": "code",
   "execution_count": 21,
   "id": "d82f55e1",
   "metadata": {},
   "outputs": [
    {
     "name": "stdout",
     "output_type": "stream",
     "text": [
      "400\n",
      "[\"You should pass your strings in a list\"]\n"
     ]
    }
   ],
   "source": [
    "payload = json.dumps({\n",
    "  \"string_list\": 'this is a nice pen'\n",
    "})\n",
    "headers = {\n",
    "  'Content-Type': 'application/json'\n",
    "}\n",
    "\n",
    "response = requests.request(\"POST\", url, headers=headers, data=payload)\n",
    "print(response.status_code)\n",
    "\n",
    "print(response.text)"
   ]
  }
 ],
 "metadata": {
  "kernelspec": {
   "display_name": "Python 3",
   "language": "python",
   "name": "python3"
  },
  "language_info": {
   "codemirror_mode": {
    "name": "ipython",
    "version": 3
   },
   "file_extension": ".py",
   "mimetype": "text/x-python",
   "name": "python",
   "nbconvert_exporter": "python",
   "pygments_lexer": "ipython3",
   "version": "3.8.8"
  }
 },
 "nbformat": 4,
 "nbformat_minor": 5
}
